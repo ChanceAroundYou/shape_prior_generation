{
 "cells": [
  {
   "cell_type": "code",
   "execution_count": 1,
   "metadata": {},
   "outputs": [],
   "source": [
    "import numpy as np\n",
    "import torch\n",
    "from torch import optim\n",
    "from torch.utils.data import DataLoader, TensorDataset\n",
    "\n",
    "from models.ResVAE import ResVAE\n",
    "from utils.load import load_from_dir, load_from_img\n",
    "from copy import deepcopy\n",
    "from matplotlib import pyplot as plt\n",
    "from utils.generate import generate_shape, reconstruct_cw, reconstruct_shape\n",
    "from hbs import boundary\n",
    "import random"
   ]
  },
  {
   "cell_type": "code",
   "execution_count": 2,
   "metadata": {},
   "outputs": [],
   "source": [
    "img_dir = \"data/img/BW bird\"\n",
    "img_name = 'BW1.jpg'\n",
    "img_path = img_dir + '/' + img_name\n",
    "cw = load_from_img(img_path, 500, 500, 25)\n",
    "\n",
    "# cw_np, loaded_datas = load_from_dir(img_dir, 500, 500, 25)\n",
    "# print(cw_np.shape)"
   ]
  },
  {
   "cell_type": "code",
   "execution_count": null,
   "metadata": {},
   "outputs": [
    {
     "name": "stdout",
     "output_type": "stream",
     "text": [
      "float64\n"
     ]
    },
    {
     "data": {
      "text/plain": [
       "np.float64(4311.005495716452)"
      ]
     },
     "execution_count": 4,
     "metadata": {},
     "output_type": "execute_result"
    }
   ],
   "source": [
    "from utils.load import preprocess\n",
    "\n",
    "a = preprocess(cw)\n"
   ]
  },
  {
   "cell_type": "code",
   "execution_count": null,
   "metadata": {},
   "outputs": [],
   "source": []
  }
 ],
 "metadata": {
  "kernelspec": {
   "display_name": "torch",
   "language": "python",
   "name": "python3"
  },
  "language_info": {
   "codemirror_mode": {
    "name": "ipython",
    "version": 3
   },
   "file_extension": ".py",
   "mimetype": "text/x-python",
   "name": "python",
   "nbconvert_exporter": "python",
   "pygments_lexer": "ipython3",
   "version": "3.11.11"
  }
 },
 "nbformat": 4,
 "nbformat_minor": 2
}
